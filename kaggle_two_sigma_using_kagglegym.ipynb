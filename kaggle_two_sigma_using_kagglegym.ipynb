{
  "nbformat": 4,
  "nbformat_minor": 0,
  "metadata": {
    "colab": {
      "name": "kaggle two sigma using kagglegym.ipynb",
      "version": "0.3.2",
      "provenance": [],
      "collapsed_sections": [],
      "include_colab_link": true
    }
  },
  "cells": [
    {
      "cell_type": "markdown",
      "metadata": {
        "id": "view-in-github",
        "colab_type": "text"
      },
      "source": [
        "[View in Colaboratory](https://colab.research.google.com/github/Sun-Jiankun/TimeSeriesForecasting/blob/master/kaggle_two_sigma_using_kagglegym.ipynb)"
      ]
    },
    {
      "metadata": {
        "id": "HuhMEBnxW4Ha",
        "colab_type": "code",
        "colab": {
          "base_uri": "https://localhost:8080/",
          "height": 35
        },
        "collapsed": true,
        "outputId": "e6c0cb24-24de-450f-e81f-5a0c2870a35b"
      },
      "cell_type": "code",
      "source": [
        "# mount google drive\n",
        "\n",
        "from google.colab import drive\n",
        "drive.mount('/content/drive')\n",
        "# !ls \"/content/drive/My Drive\""
      ],
      "execution_count": 24,
      "outputs": [
        {
          "output_type": "stream",
          "text": [
            "Mounted at /content/drive\n"
          ],
          "name": "stdout"
        }
      ]
    },
    {
      "metadata": {
        "id": "NbbxCy3_MeXr",
        "colab_type": "code",
        "colab": {
          "base_uri": "https://localhost:8080/",
          "height": 89
        },
        "collapsed": true,
        "outputId": "5691ddc1-f530-4e0a-fc1e-6a55d69e07d5"
      },
      "cell_type": "code",
      "source": [
        "!pip install --upgrade tables"
      ],
      "execution_count": 26,
      "outputs": [
        {
          "output_type": "stream",
          "text": [
            "Requirement already up-to-date: tables in /usr/local/lib/python2.7/dist-packages (3.4.4)\n",
            "Requirement already satisfied, skipping upgrade: numpy>=1.8.0 in /usr/local/lib/python2.7/dist-packages (from tables) (1.14.6)\n",
            "Requirement already satisfied, skipping upgrade: numexpr>=2.5.2 in /usr/local/lib/python2.7/dist-packages (from tables) (2.6.8)\n",
            "Requirement already satisfied, skipping upgrade: six>=1.9.0 in /usr/local/lib/python2.7/dist-packages (from tables) (1.11.0)\n"
          ],
          "name": "stdout"
        }
      ]
    },
    {
      "metadata": {
        "id": "dNHHz40ISh9j",
        "colab_type": "code",
        "colab": {}
      },
      "cell_type": "code",
      "source": [
        "import os\n",
        "import pandas as pd\n",
        "import numpy as np\n",
        "from sklearn.metrics import r2_score\n",
        "\n",
        "# This is taken from Frans Slothoubers post on the contest discussion forum.\n",
        "# https://www.kaggle.com/slothouber/two-sigma-financial-modeling/kagglegym-emulation\n",
        "\n",
        "\n",
        "def r_score(y_true, y_pred, sample_weight=None, multioutput=None):\n",
        "    r2 = r2_score(y_true, y_pred, sample_weight=sample_weight,\n",
        "                  multioutput=multioutput)\n",
        "    r = (np.sign(r2)*np.sqrt(np.abs(r2)))\n",
        "    if r <= -1:\n",
        "        return -1\n",
        "    else:\n",
        "        return r"
      ],
      "execution_count": 0,
      "outputs": []
    },
    {
      "metadata": {
        "id": "I6Uz-F7hSwjK",
        "colab_type": "code",
        "colab": {}
      },
      "cell_type": "code",
      "source": [
        "class Observation(object):\n",
        "    def __init__(self, train, target, features):\n",
        "        self.train = train\n",
        "        self.target = target\n",
        "        self.features = features\n",
        "\n",
        "\n",
        "class Environment(object):\n",
        "    def __init__(self):\n",
        "        with pd.HDFStore(\"/content/drive/My Drive/train.h5\", \"r\") as hfdata:\n",
        "            self.timestamp = 0\n",
        "            fullset = hfdata.get(\"train\")\n",
        "            self.unique_timestamp = fullset[\"timestamp\"].unique()\n",
        "            # Get a list of unique timestamps\n",
        "            # use the first half for training and\n",
        "            # the second half for the test set\n",
        "            n = len(self.unique_timestamp)\n",
        "            i = int(n/2)\n",
        "            timesplit = self.unique_timestamp[i]\n",
        "            self.n = n\n",
        "            self.unique_idx = i\n",
        "            self.train = fullset[fullset.timestamp < timesplit]\n",
        "            self.test = fullset[fullset.timestamp >= timesplit]\n",
        "\n",
        "            # Needed to compute final score\n",
        "            self.full = self.test.loc[:, ['timestamp', 'y']]\n",
        "            self.full['y_hat'] = 0.0\n",
        "            self.temp_test_y = None\n",
        "\n",
        "    # 构建observation，初始observation  train: 前一半的数据  target:\t测试集子集中id列和y列数据  其中y列被置为0  features: target子集中特征列的数据\n",
        "    def reset(self):\n",
        "        timesplit = self.unique_timestamp[self.unique_idx]\n",
        "\n",
        "        self.unique_idx = int(self.n / 2)\n",
        "        self.unique_idx += 1\n",
        "        subset = self.test[self.test.timestamp == timesplit]\n",
        "\n",
        "        # reset index to conform to how kagglegym works\n",
        "        target = subset.loc[:, ['id', 'y']].reset_index(drop=True)\n",
        "        self.temp_test_y = target['y']\n",
        "\n",
        "        target.loc[:, 'y'] = 0.0  # set the prediction column to zero\n",
        "\n",
        "        # changed bounds to 0:110 from 1:111 to mimic the behavior\n",
        "        # of api for feature\n",
        "        features = subset.iloc[:, :110].reset_index(drop=True)\n",
        "\n",
        "        observation = Observation(self.train, target, features)\n",
        "        return observation\n",
        "\n",
        "    def step(self, target):\n",
        "        timesplit = self.unique_timestamp[self.unique_idx-1]\n",
        "        print(\"timesplit: \",timesplit)\n",
        "        # Since full and target have a different index we need\n",
        "        # to do a _values trick here to get the assignment working\n",
        "        y_hat = target.loc[:, ['y']]\n",
        "        self.full.loc[self.full.timestamp == timesplit, ['y_hat']] = y_hat._values\n",
        "\n",
        "        if self.unique_idx == self.n:\n",
        "            done = True\n",
        "            observation = None\n",
        "            reward = r_score(self.temp_test_y, target.loc[:, 'y'])\n",
        "            score = r_score(self.full['y'], self.full['y_hat'])\n",
        "            info = {'public_score': -score}\n",
        "        else:\n",
        "            reward = r_score(self.temp_test_y, target.loc[:, 'y'])\n",
        "            done = False\n",
        "            info = {}\n",
        "            timesplit = self.unique_timestamp[self.unique_idx]\n",
        "            self.unique_idx += 1\n",
        "            subset = self.test[self.test.timestamp == timesplit]\n",
        "\n",
        "            # reset index to conform to how kagglegym works\n",
        "            target = subset.loc[:, ['id', 'y']].reset_index(drop=True)\n",
        "            self.temp_test_y = target['y']\n",
        "\n",
        "            # set the prediction column to zero\n",
        "            target.loc[:, 'y'] = 0\n",
        "\n",
        "            # column bound change on the subset\n",
        "            # reset index to conform to how kagglegym works\n",
        "            features = subset.iloc[:, 0:110].reset_index(drop=True)\n",
        "\n",
        "            observation = Observation(self.train, target, features)\n",
        "\n",
        "        return observation, reward, done, info\n",
        "\n",
        "    def __str__(self):\n",
        "        return \"Environment()\""
      ],
      "execution_count": 0,
      "outputs": []
    },
    {
      "metadata": {
        "id": "q1fppE8ueA54",
        "colab_type": "code",
        "colab": {}
      },
      "cell_type": "code",
      "source": [
        "def make():\n",
        "  return Environment()\n",
        "\n",
        "def test():\n",
        "  env = make()\n",
        "  observation = env.reset()\n",
        "  \n",
        "  print(len(observation.target))\n",
        "  print(len(observation.train))\n",
        "  \n",
        "  n=0\n",
        "  rewards = []\n",
        "  while True:\n",
        "    target = observation.target\n",
        "    target.loc[:, 'y'] = 0.0006\n",
        "    observation, reward, done, info = env.step(target)\n",
        "    if done:\n",
        "      break\n",
        "      rewards.append(reward)\n",
        "      n = n+1\n",
        "      \n",
        "  print(info)\n",
        "  print(n)\n",
        "  print(rewards[0:15])"
      ],
      "execution_count": 0,
      "outputs": []
    },
    {
      "metadata": {
        "id": "gBU5sv8eeCN0",
        "colab_type": "code",
        "colab": {}
      },
      "cell_type": "code",
      "source": [
        "test()"
      ],
      "execution_count": 0,
      "outputs": []
    },
    {
      "metadata": {
        "id": "aHFCft3Kefok",
        "colab_type": "code",
        "colab": {}
      },
      "cell_type": "code",
      "source": [
        ""
      ],
      "execution_count": 0,
      "outputs": []
    }
  ]
}