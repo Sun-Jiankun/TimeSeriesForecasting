{
  "nbformat": 4,
  "nbformat_minor": 0,
  "metadata": {
    "colab": {
      "name": "kaggle two sigma using kagglegym.ipynb",
      "version": "0.3.2",
      "provenance": [],
      "include_colab_link": true
    }
  },
  "cells": [
    {
      "cell_type": "markdown",
      "metadata": {
        "id": "view-in-github",
        "colab_type": "text"
      },
      "source": [
        "[View in Colaboratory](https://colab.research.google.com/github/Sun-Jiankun/TimeSeriesForecasting/blob/master/kaggle_two_sigma_using_kagglegym.ipynb)"
      ]
    },
    {
      "metadata": {
        "id": "HuhMEBnxW4Ha",
        "colab_type": "code",
        "colab": {}
      },
      "cell_type": "code",
      "source": [
        "# mount google drive\n",
        "\n",
        "from google.colab import drive\n",
        "drive.mount('/content/drive')\n",
        "# !ls \"/content/drive/My Drive\""
      ],
      "execution_count": 0,
      "outputs": []
    },
    {
      "metadata": {
        "id": "k5tPk7xb5us-",
        "colab_type": "code",
        "colab": {}
      },
      "cell_type": "code",
      "source": [
        "\n",
        "# # pip install kaggle \n",
        "# !pip install kaggle\n",
        "\n",
        "# !cp /content/drive/My\\ Drive/kaggle.json ~/.kaggle/\n",
        "# !chmod 600 ~/.kaggle/kaggle.json\n",
        "\n",
        "\n",
        "\n",
        "\n",
        "# make kaggle API accessible\n",
        "\n",
        "# from googleapiclient.discovery import build\n",
        "# import io, os\n",
        "# from googleapiclient.http import MediaIoBaseDownload\n",
        "# from google.colab import auth\n",
        "# auth.authenticate_user()\n",
        "# drive_service = build('drive', 'v3')\n",
        "# results = drive_service.files().list(\n",
        "#         q=\"name = 'kaggle.json'\", fields=\"files(id)\").execute()\n",
        "# kaggle_api_key = results.get('files', [])\n",
        "# filename = \"~/.kaggle/kaggle.json\"\n",
        "# os.makedirs(os.path.dirname(filename), exist_ok=True)\n",
        "# request = drive_service.files().get_media(fileId=kaggle_api_key[0]['id'])\n",
        "# fh = io.FileIO(filename, 'wb')\n",
        "# downloader = MediaIoBaseDownload(fh, request)\n",
        "# done = False\n",
        "# while done is False:\n",
        "#     status, done = downloader.next_chunk()\n",
        "#     print(\"Download %d%%.\" % int(status.progress() * 100))\n",
        "# os.chmod(filename, 600)\n",
        "\n",
        "# !cp /content/drive/My\\ Drive/kaggle.json ~/.kaggle/kaggle.json"
      ],
      "execution_count": 0,
      "outputs": []
    },
    {
      "metadata": {
        "id": "NbbxCy3_MeXr",
        "colab_type": "code",
        "colab": {}
      },
      "cell_type": "code",
      "source": [
        "!pip install --upgrade tables"
      ],
      "execution_count": 0,
      "outputs": []
    },
    {
      "metadata": {
        "id": "9_gDWaxNMeXw",
        "colab_type": "code",
        "colab": {}
      },
      "cell_type": "code",
      "source": [
        "import pandas as pd\n",
        "\n",
        "with pd.HDFStore(\"./train.h5\",\"r\") as train:\n",
        "    df =  train.get(\"train\")"
      ],
      "execution_count": 0,
      "outputs": []
    },
    {
      "metadata": {
        "id": "4ZbBNFQyMeXy",
        "colab_type": "code",
        "colab": {}
      },
      "cell_type": "code",
      "source": [
        "len(df)"
      ],
      "execution_count": 0,
      "outputs": []
    },
    {
      "metadata": {
        "id": "6_N594R6MeX0",
        "colab_type": "code",
        "colab": {}
      },
      "cell_type": "code",
      "source": [
        "df.head()\n",
        "df.columns"
      ],
      "execution_count": 0,
      "outputs": []
    },
    {
      "metadata": {
        "id": "9D0iqxZ3MeX4",
        "colab_type": "code",
        "colab": {}
      },
      "cell_type": "code",
      "source": [
        "values = []\n",
        "labels = []\n",
        "for col in df.columns:\n",
        "    labels.append(col)\n",
        "    values.append(df[col].isnull().sum()) # 记录每一列的缺失值个数\n",
        "    print(col,values[-1])\n",
        "    # print(df[col].isnull())"
      ],
      "execution_count": 0,
      "outputs": []
    },
    {
      "metadata": {
        "id": "Mchu-WkdMeX6",
        "colab_type": "code",
        "colab": {}
      },
      "cell_type": "code",
      "source": [
        "import matplotlib.pyplot as plt\n",
        "import numpy as np\n",
        "%matplotlib inline\n",
        "\n",
        "ind = np.arange(len(labels))\n",
        "width = 0.9\n",
        "fig, ax = plt.subplots(figsize=(12, 50))\n",
        "rect = ax.barh(ind, np.array(values), color='y')\n",
        "ax.set_yticks(ind+(width)/2.)"
      ],
      "execution_count": 0,
      "outputs": []
    }
  ]
}