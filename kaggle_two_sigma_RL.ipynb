{
  "nbformat": 4,
  "nbformat_minor": 0,
  "metadata": {
    "colab": {
      "name": "kaggle two sigma RL.ipynb",
      "version": "0.3.2",
      "provenance": [],
      "collapsed_sections": [],
      "include_colab_link": true
    },
    "kernelspec": {
      "display_name": "Python 3",
      "language": "python",
      "name": "python3"
    }
  },
  "cells": [
    {
      "cell_type": "markdown",
      "metadata": {
        "id": "view-in-github",
        "colab_type": "text"
      },
      "source": [
        "[View in Colaboratory](https://colab.research.google.com/github/Sun-Jiankun/TimeSeriesForecasting/blob/master/kaggle_two_sigma_RL.ipynb)"
      ]
    },
    {
      "metadata": {
        "id": "HuhMEBnxW4Ha",
        "colab_type": "code",
        "colab": {
          "base_uri": "https://localhost:8080/",
          "height": 34
        },
        "outputId": "7c8f7a2b-3afa-4588-9303-d0a4804d1306"
      },
      "cell_type": "code",
      "source": [
        "# mount google drive\n",
        "\n",
        "from google.colab import drive\n",
        "drive.mount('/content/drive')\n",
        "# !ls \"/content/drive/My Drive\""
      ],
      "execution_count": 31,
      "outputs": [
        {
          "output_type": "stream",
          "text": [
            "Mounted at /content/drive\n"
          ],
          "name": "stdout"
        }
      ]
    },
    {
      "metadata": {
        "id": "k5tPk7xb5us-",
        "colab_type": "code",
        "colab": {
          "base_uri": "https://localhost:8080/",
          "height": 204
        },
        "outputId": "cc874a96-06e4-4031-f0b5-28da2d8b1ef5"
      },
      "cell_type": "code",
      "source": [
        "\n",
        "# pip install kaggle \n",
        "!pip install kaggle\n",
        "\n",
        "!cp /content/drive/My\\ Drive/kaggle.json ~/.kaggle/\n",
        "!chmod 600 ~/.kaggle/kaggle.json\n",
        "# make kaggle API accessible\n",
        "\n",
        "# from googleapiclient.discovery import build\n",
        "# import io, os\n",
        "# from googleapiclient.http import MediaIoBaseDownload\n",
        "# from google.colab import auth\n",
        "# auth.authenticate_user()\n",
        "# drive_service = build('drive', 'v3')\n",
        "# results = drive_service.files().list(\n",
        "#         q=\"name = 'kaggle.json'\", fields=\"files(id)\").execute()\n",
        "# kaggle_api_key = results.get('files', [])\n",
        "# filename = \"~/.kaggle/kaggle.json\"\n",
        "# os.makedirs(os.path.dirname(filename), exist_ok=True)\n",
        "# request = drive_service.files().get_media(fileId=kaggle_api_key[0]['id'])\n",
        "# fh = io.FileIO(filename, 'wb')\n",
        "# downloader = MediaIoBaseDownload(fh, request)\n",
        "# done = False\n",
        "# while done is False:\n",
        "#     status, done = downloader.next_chunk()\n",
        "#     print(\"Download %d%%.\" % int(status.progress() * 100))\n",
        "# os.chmod(filename, 600)\n",
        "\n",
        "# !cp /content/drive/My\\ Drive/kaggle.json ~/.kaggle/kaggle.json"
      ],
      "execution_count": 32,
      "outputs": [
        {
          "output_type": "stream",
          "text": [
            "Requirement already satisfied: kaggle in /usr/local/lib/python3.6/dist-packages (1.4.7.1)\n",
            "Requirement already satisfied: python-dateutil in /usr/local/lib/python3.6/dist-packages (from kaggle) (2.5.3)\n",
            "Requirement already satisfied: tqdm in /usr/local/lib/python3.6/dist-packages (from kaggle) (4.26.0)\n",
            "Requirement already satisfied: python-slugify in /usr/local/lib/python3.6/dist-packages (from kaggle) (1.2.6)\n",
            "Requirement already satisfied: requests in /usr/local/lib/python3.6/dist-packages (from kaggle) (2.18.4)\n",
            "Requirement already satisfied: urllib3<1.23.0,>=1.15 in /usr/local/lib/python3.6/dist-packages (from kaggle) (1.22)\n",
            "Requirement already satisfied: certifi in /usr/local/lib/python3.6/dist-packages (from kaggle) (2018.8.24)\n",
            "Requirement already satisfied: six>=1.10 in /usr/local/lib/python3.6/dist-packages (from kaggle) (1.11.0)\n",
            "Requirement already satisfied: Unidecode>=0.04.16 in /usr/local/lib/python3.6/dist-packages (from python-slugify->kaggle) (1.0.22)\n",
            "Requirement already satisfied: idna<2.7,>=2.5 in /usr/local/lib/python3.6/dist-packages (from requests->kaggle) (2.6)\n",
            "Requirement already satisfied: chardet<3.1.0,>=3.0.2 in /usr/local/lib/python3.6/dist-packages (from requests->kaggle) (3.0.4)\n"
          ],
          "name": "stdout"
        }
      ]
    },
    {
      "metadata": {
        "id": "lkZwP6_znCux",
        "colab_type": "code",
        "colab": {
          "base_uri": "https://localhost:8080/",
          "height": 391
        },
        "outputId": "dd1b6e99-5a82-4265-960b-e4e60045fc23"
      },
      "cell_type": "code",
      "source": [
        "!kaggle datasets list"
      ],
      "execution_count": 33,
      "outputs": [
        {
          "output_type": "stream",
          "text": [
            "ref                                                      title                                         size  lastUpdated          downloadCount  \n",
            "-------------------------------------------------------  -------------------------------------------  -----  -------------------  -------------  \n",
            "lava18/google-play-store-apps                            Google Play Store Apps                         2MB  2018-09-18 20:49:49           4236  \n",
            "census/total-business-inventories-and-sales-data         Total Business Inventories and Sales Data     21KB  2018-09-26 09:46:01            320  \n",
            "neuromusic/avocado-prices                                Avocado Prices                               629KB  2018-06-06 05:28:35           8052  \n",
            "blastchar/telco-customer-churn                           Telco Customer Churn                         172KB  2018-02-23 18:20:00           6582  \n",
            "jenny18/honey-bee-annotated-images                       Annotated Honey Bee Images                    50MB  2018-09-16 23:42:12            412  \n",
            "bigquery/patents                                         Google Patents Public Data                     2TB  2018-09-19 01:57:26              0  \n",
            "san-francisco/sf-police-calls-for-service-and-incidents  SF Police Calls for Service and Incidents    165MB  2018-09-28 09:39:51            659  \n",
            "census/total-construction-spending-data-collection       Total Construction Spending Data Collection   33KB  2018-09-26 09:47:46            219  \n",
            "cityofLA/los-angeles-metro-bike-share-trip-data          Los Angeles Metro Bike Share Trip Data         3MB  2018-09-06 06:37:25            980  \n",
            "chicago/chicago-311-service-requests                     Chicago 311 Service Requests                 231MB  2018-09-27 16:10:02            252  \n",
            "census/census-bureau-usa                                 United States Census                         161MB  2018-04-17 18:52:46              0  \n",
            "chicago/chicago-red-light-and-speed-camera-data          Chicago Red Light and Speed Camera Data       22MB  2018-09-27 16:47:05            384  \n",
            "fmena14/volcanoesvenus                                   Volcanoes on Venus                           109MB  2018-08-25 01:37:34            245  \n",
            "smid80/weatherww2                                        Weather Conditions in World War Two            2MB  2017-11-01 05:05:30           2898  \n",
            "cityofLA/la-restaurant-market-health-data                LA Restaurant & Market Health Data            10MB  2018-09-06 05:37:59           2009  \n",
            "kevinarvai/clinvar-conflicting                           Genetic Variant Classifications                3MB  2018-04-22 19:16:07           1491  \n",
            "kmader/nih-deeplesion-subset                             NIH DeepLesion Subset                          8GB  2018-07-22 18:58:32            228  \n",
            "marklvl/bike-sharing-dataset                             Bike Sharing in Washington D.C. Dataset      273KB  2018-05-28 11:31:09           1752  \n",
            "census/family-households-with-married-couples-data       Family Households with Married Couples Data    2KB  2018-09-26 09:59:10            175  \n",
            "lucidlenn/sloan-digital-sky-survey                       Sloan Digital Sky Survey RD14                446KB  2018-09-20 00:23:41            715  \n"
          ],
          "name": "stdout"
        }
      ]
    },
    {
      "metadata": {
        "id": "NbbxCy3_MeXr",
        "colab_type": "code",
        "colab": {
          "base_uri": "https://localhost:8080/",
          "height": 89
        },
        "outputId": "add132db-7ae1-415a-b783-c5fbdae011e7"
      },
      "cell_type": "code",
      "source": [
        "!pip install --upgrade tables"
      ],
      "execution_count": 0,
      "outputs": [
        {
          "output_type": "stream",
          "text": [
            "Requirement already up-to-date: tables in /usr/local/lib/python3.6/dist-packages (3.4.4)\n",
            "Requirement already satisfied, skipping upgrade: numpy>=1.8.0 in /usr/local/lib/python3.6/dist-packages (from tables) (1.14.6)\n",
            "Requirement already satisfied, skipping upgrade: six>=1.9.0 in /usr/local/lib/python3.6/dist-packages (from tables) (1.11.0)\n",
            "Requirement already satisfied, skipping upgrade: numexpr>=2.5.2 in /usr/local/lib/python3.6/dist-packages (from tables) (2.6.8)\n"
          ],
          "name": "stdout"
        }
      ]
    },
    {
      "metadata": {
        "id": "9_gDWaxNMeXw",
        "colab_type": "code",
        "colab": {}
      },
      "cell_type": "code",
      "source": [
        "import pandas as pd\n",
        "\n",
        "with pd.HDFStore(\"./train.h5\",\"r\") as train:\n",
        "    df =  train.get(\"train\")"
      ],
      "execution_count": 0,
      "outputs": []
    },
    {
      "metadata": {
        "id": "4ZbBNFQyMeXy",
        "colab_type": "code",
        "colab": {},
        "outputId": "57b3ffc0-f649-43ad-9537-7bbbf0335291"
      },
      "cell_type": "code",
      "source": [
        "len(df)"
      ],
      "execution_count": 0,
      "outputs": [
        {
          "output_type": "execute_result",
          "data": {
            "text/plain": [
              "1710756"
            ]
          },
          "metadata": {
            "tags": []
          },
          "execution_count": 7
        }
      ]
    },
    {
      "metadata": {
        "id": "6_N594R6MeX0",
        "colab_type": "code",
        "colab": {},
        "outputId": "67fdca9b-fe91-47bf-e90a-fb7ca726cb1e"
      },
      "cell_type": "code",
      "source": [
        "df.head()\n",
        "df.columns"
      ],
      "execution_count": 0,
      "outputs": [
        {
          "output_type": "execute_result",
          "data": {
            "text/plain": [
              "Index(['id', 'timestamp', 'derived_0', 'derived_1', 'derived_2', 'derived_3',\n",
              "       'derived_4', 'fundamental_0', 'fundamental_1', 'fundamental_2',\n",
              "       ...\n",
              "       'technical_36', 'technical_37', 'technical_38', 'technical_39',\n",
              "       'technical_40', 'technical_41', 'technical_42', 'technical_43',\n",
              "       'technical_44', 'y'],\n",
              "      dtype='object', length=111)"
            ]
          },
          "metadata": {
            "tags": []
          },
          "execution_count": 9
        }
      ]
    },
    {
      "metadata": {
        "id": "9D0iqxZ3MeX4",
        "colab_type": "code",
        "colab": {},
        "outputId": "30913108-00f4-450a-f5dc-b7a98a5550bb"
      },
      "cell_type": "code",
      "source": [
        "values = []\n",
        "labels = []\n",
        "for col in df.columns:\n",
        "    labels.append(col)\n",
        "    values.append(df[col].isnull().sum()) # 记录每一列的缺失值个数\n",
        "    print(col,values[-1])\n",
        "    # print(df[col].isnull())"
      ],
      "execution_count": 0,
      "outputs": [
        {
          "output_type": "stream",
          "text": [
            "id 0\n",
            "timestamp 0\n",
            "derived_0 72959\n",
            "derived_1 81029\n",
            "derived_2 398651\n",
            "derived_3 149471\n",
            "derived_4 406458\n",
            "fundamental_0 23947\n",
            "fundamental_1 679070\n",
            "fundamental_2 368840\n",
            "fundamental_3 454380\n",
            "fundamental_5 962020\n",
            "fundamental_6 701625\n",
            "fundamental_7 26340\n",
            "fundamental_8 373166\n",
            "fundamental_9 565567\n",
            "fundamental_10 112977\n",
            "fundamental_11 368840\n",
            "fundamental_12 110871\n",
            "fundamental_13 355138\n",
            "fundamental_14 356084\n",
            "fundamental_15 354897\n",
            "fundamental_16 355138\n",
            "fundamental_17 97222\n",
            "fundamental_18 15833\n",
            "fundamental_19 54588\n",
            "fundamental_20 110871\n",
            "fundamental_21 54333\n",
            "fundamental_22 558488\n",
            "fundamental_23 356723\n",
            "fundamental_24 576655\n",
            "fundamental_25 121894\n",
            "fundamental_26 657184\n",
            "fundamental_27 281298\n",
            "fundamental_28 667331\n",
            "fundamental_29 354106\n",
            "fundamental_30 354907\n",
            "fundamental_31 454380\n",
            "fundamental_32 111672\n",
            "fundamental_33 13835\n",
            "fundamental_34 434862\n",
            "fundamental_35 424476\n",
            "fundamental_36 15843\n",
            "fundamental_37 355843\n",
            "fundamental_38 803489\n",
            "fundamental_39 377574\n",
            "fundamental_40 279702\n",
            "fundamental_41 30115\n",
            "fundamental_42 22913\n",
            "fundamental_43 354531\n",
            "fundamental_44 355805\n",
            "fundamental_45 16062\n",
            "fundamental_46 355843\n",
            "fundamental_47 446328\n",
            "fundamental_48 15843\n",
            "fundamental_49 558333\n",
            "fundamental_50 355231\n",
            "fundamental_51 447053\n",
            "fundamental_52 153927\n",
            "fundamental_53 23947\n",
            "fundamental_54 384213\n",
            "fundamental_55 368840\n",
            "fundamental_56 368840\n",
            "fundamental_57 657184\n",
            "fundamental_58 142125\n",
            "fundamental_59 16062\n",
            "fundamental_60 355126\n",
            "fundamental_61 671801\n",
            "fundamental_62 112977\n",
            "fundamental_63 375614\n",
            "technical_0 19165\n",
            "technical_1 126776\n",
            "technical_2 4279\n",
            "technical_3 98294\n",
            "technical_5 153604\n",
            "technical_6 4279\n",
            "technical_7 2236\n",
            "technical_9 19165\n",
            "technical_10 167483\n",
            "technical_11 4279\n",
            "technical_12 19165\n",
            "technical_13 4764\n",
            "technical_14 14184\n",
            "technical_16 19981\n",
            "technical_17 4279\n",
            "technical_18 20016\n",
            "technical_19 2320\n",
            "technical_20 4764\n",
            "technical_21 2236\n",
            "technical_22 0\n",
            "technical_24 71146\n",
            "technical_25 208056\n",
            "technical_27 2420\n",
            "technical_28 262916\n",
            "technical_29 61615\n",
            "technical_30 4764\n",
            "technical_31 182678\n",
            "technical_32 19165\n",
            "technical_33 14535\n",
            "technical_34 0\n",
            "technical_35 3155\n",
            "technical_36 2552\n",
            "technical_37 19165\n",
            "technical_38 19165\n",
            "technical_39 20016\n",
            "technical_40 2236\n",
            "technical_41 44189\n",
            "technical_42 20001\n",
            "technical_43 4686\n",
            "technical_44 236779\n",
            "y 0\n"
          ],
          "name": "stdout"
        }
      ]
    },
    {
      "metadata": {
        "id": "Mchu-WkdMeX6",
        "colab_type": "code",
        "colab": {},
        "outputId": "8080fa09-e6ba-491a-bb9e-b52562b21101"
      },
      "cell_type": "code",
      "source": [
        "import matplotlib.pyplot as plt\n",
        "import numpy as np\n",
        "%matplotlib inline\n",
        "\n",
        "ind = np.arange(len(labels))\n",
        "width = 0.9\n",
        "fig, ax = plt.subplots(figsize=(12, 50))\n",
        "rect = ax.barh(ind, np.array(values), color='y')\n",
        "ax.set_yticks(ind+(width)/2.)"
      ],
      "execution_count": 0,
      "outputs": [
        {
          "output_type": "display_data",
          "data": {
            "image/png": "[encoded data removed]",
            "text/plain": [
              "<Figure size 864x3600 with 1 Axes>"
            ]
          },
          "metadata": {
            "tags": []
          }
        }
      ]
    }
  ]
}